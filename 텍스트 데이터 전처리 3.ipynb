{
 "cells": [
  {
   "cell_type": "code",
   "execution_count": 1,
   "metadata": {},
   "outputs": [
    {
     "name": "stderr",
     "output_type": "stream",
     "text": [
      "[nltk_data] Downloading package punkt to\n",
      "[nltk_data]     C:\\Users\\student\\AppData\\Roaming\\nltk_data...\n",
      "[nltk_data]   Unzipping tokenizers\\punkt.zip.\n"
     ]
    }
   ],
   "source": [
    "import nltk\n",
    "nltk.download('punkt')\n",
    "from nltk.stem import PorterStemmer\n",
    "from nltk.tokenize import word_tokenize"
   ]
  },
  {
   "cell_type": "code",
   "execution_count": 3,
   "metadata": {},
   "outputs": [],
   "source": [
    "ps_stemmer = PorterStemmer()"
   ]
  },
  {
   "cell_type": "code",
   "execution_count": 2,
   "metadata": {},
   "outputs": [],
   "source": [
    "new_text =  \"Dear Editors, Greeting, This is Jihoon Moon, the co-author of CLUS-D-21-00843R2. I am contacting you because I wonder how the process of our manuscript is going. We think all the preparations have been made for journal publication. However, it has been two months since we submitted the final revision, and we have not received any response. Could we know when we will receive the proofread or know another process for journal publication? Thank you very much for your efforts in the publication of our study. We are looking forward to hearing from you soon. Best regards, Jihoon Moon, Ph.D.\""
   ]
  },
  {
   "cell_type": "code",
   "execution_count": 4,
   "metadata": {},
   "outputs": [
    {
     "name": "stdout",
     "output_type": "stream",
     "text": [
      "dear editor , greet , thi is jihoon moon , the co-author of clus-d-21-00843r2 . I am contact you becaus I wonder how the process of our manuscript is go . We think all the prepar have been made for journal public . howev , it ha been two month sinc we submit the final revis , and we have not receiv ani respons . could we know when we will receiv the proofread or know anoth process for journal public ? thank you veri much for your effort in the public of our studi . We are look forward to hear from you soon . best regard , jihoon moon , ph.d . "
     ]
    }
   ],
   "source": [
    "words = word_tokenize(new_text)\n",
    "for w in words: print(ps_stemmer.stem(w), end = ' ')"
   ]
  },
  {
   "cell_type": "code",
   "execution_count": 5,
   "metadata": {},
   "outputs": [
    {
     "data": {
      "text/plain": [
       "['Dear',\n",
       " 'Editors',\n",
       " ',',\n",
       " 'Greeting',\n",
       " ',',\n",
       " 'This',\n",
       " 'is',\n",
       " 'Jihoon',\n",
       " 'Moon',\n",
       " ',',\n",
       " 'the',\n",
       " 'co-author',\n",
       " 'of',\n",
       " 'CLUS-D-21-00843R2',\n",
       " '.',\n",
       " 'I',\n",
       " 'am',\n",
       " 'contacting',\n",
       " 'you',\n",
       " 'because',\n",
       " 'I',\n",
       " 'wonder',\n",
       " 'how',\n",
       " 'the',\n",
       " 'process',\n",
       " 'of',\n",
       " 'our',\n",
       " 'manuscript',\n",
       " 'is',\n",
       " 'going',\n",
       " '.',\n",
       " 'We',\n",
       " 'think',\n",
       " 'all',\n",
       " 'the',\n",
       " 'preparations',\n",
       " 'have',\n",
       " 'been',\n",
       " 'made',\n",
       " 'for',\n",
       " 'journal',\n",
       " 'publication',\n",
       " '.',\n",
       " 'However',\n",
       " ',',\n",
       " 'it',\n",
       " 'has',\n",
       " 'been',\n",
       " 'two',\n",
       " 'months',\n",
       " 'since',\n",
       " 'we',\n",
       " 'submitted',\n",
       " 'the',\n",
       " 'final',\n",
       " 'revision',\n",
       " ',',\n",
       " 'and',\n",
       " 'we',\n",
       " 'have',\n",
       " 'not',\n",
       " 'received',\n",
       " 'any',\n",
       " 'response',\n",
       " '.',\n",
       " 'Could',\n",
       " 'we',\n",
       " 'know',\n",
       " 'when',\n",
       " 'we',\n",
       " 'will',\n",
       " 'receive',\n",
       " 'the',\n",
       " 'proofread',\n",
       " 'or',\n",
       " 'know',\n",
       " 'another',\n",
       " 'process',\n",
       " 'for',\n",
       " 'journal',\n",
       " 'publication',\n",
       " '?',\n",
       " 'Thank',\n",
       " 'you',\n",
       " 'very',\n",
       " 'much',\n",
       " 'for',\n",
       " 'your',\n",
       " 'efforts',\n",
       " 'in',\n",
       " 'the',\n",
       " 'publication',\n",
       " 'of',\n",
       " 'our',\n",
       " 'study',\n",
       " '.',\n",
       " 'We',\n",
       " 'are',\n",
       " 'looking',\n",
       " 'forward',\n",
       " 'to',\n",
       " 'hearing',\n",
       " 'from',\n",
       " 'you',\n",
       " 'soon',\n",
       " '.',\n",
       " 'Best',\n",
       " 'regards',\n",
       " ',',\n",
       " 'Jihoon',\n",
       " 'Moon',\n",
       " ',',\n",
       " 'Ph.D',\n",
       " '.']"
      ]
     },
     "execution_count": 5,
     "metadata": {},
     "output_type": "execute_result"
    }
   ],
   "source": [
    "words"
   ]
  },
  {
   "cell_type": "code",
   "execution_count": 6,
   "metadata": {},
   "outputs": [
    {
     "name": "stdout",
     "output_type": "stream",
     "text": [
      "dear edit , greet , thi is jihoon moon , the co-author of clus-d-21-00843r2 . i am contact you becaus i wond how the process of our manuscrib is going . we think al the prep hav been mad for journ publ . howev , it has been two month sint we submit the fin revid , and we hav not receiv any respons . could we know when we wil receiv the proofread or know anoth process for journ publ ? thank you very much for yo effort in the publ of our study . we ar look forward to hear from you soon . best regard , jihoon moon , ph.d . "
     ]
    }
   ],
   "source": [
    "from nltk.stem.lancaster import LancasterStemmer\n",
    "LS_stemmer= LancasterStemmer()\n",
    "for w in words: print(LS_stemmer.stem(w), end = ' ')"
   ]
  },
  {
   "cell_type": "code",
   "execution_count": 8,
   "metadata": {},
   "outputs": [
    {
     "name": "stdout",
     "output_type": "stream",
     "text": [
      "Dear Editors , Greeting , This is Jihoon Moon , the co-author of CLUS-D-21-00843R2 . I am contacting you because I wonder how the process of our manuscript is going . We think all the preparations have been made for journal publication . Hover , it has been two months since  submitted the final revision , and  have not received any response . Could  know when  will receive the proofread or know another process for journal publication ? Thank you very much for your efforts in the publication of our study . We are looking forward to hearing from you soon . Best regards , Jihoon Moon , Ph.D . "
     ]
    }
   ],
   "source": [
    "from nltk.stem.regexp import RegexpStemmer\n",
    "RS_stemmer= RegexpStemmer(\"we\")\n",
    "for w in words: print(RS_stemmer.stem(w), end = ' ')"
   ]
  },
  {
   "cell_type": "code",
   "execution_count": 9,
   "metadata": {
    "scrolled": true
   },
   "outputs": [
    {
     "name": "stdout",
     "output_type": "stream",
     "text": [
      "('Dear', 'Editors,') ('Editors,', 'Greeting,') ('Greeting,', 'This') ('This', 'is') ('is', 'Jihoon') ('Jihoon', 'Moon,') ('Moon,', 'the') ('the', 'co-author') ('co-author', 'of') ('of', 'CLUS-D-21-00843R2.') ('CLUS-D-21-00843R2.', 'I') ('I', 'am') ('am', 'contacting') ('contacting', 'you') ('you', 'because') ('because', 'I') ('I', 'wonder') ('wonder', 'how') ('how', 'the') ('the', 'process') ('process', 'of') ('of', 'our') ('our', 'manuscript') ('manuscript', 'is') ('is', 'going.') ('going.', 'We') ('We', 'think') ('think', 'all') ('all', 'the') ('the', 'preparations') ('preparations', 'have') ('have', 'been') ('been', 'made') ('made', 'for') ('for', 'journal') ('journal', 'publication.') ('publication.', 'However,') ('However,', 'it') ('it', 'has') ('has', 'been') ('been', 'two') ('two', 'months') ('months', 'since') ('since', 'we') ('we', 'submitted') ('submitted', 'the') ('the', 'final') ('final', 'revision,') ('revision,', 'and') ('and', 'we') ('we', 'have') ('have', 'not') ('not', 'received') ('received', 'any') ('any', 'response.') ('response.', 'Could') ('Could', 'we') ('we', 'know') ('know', 'when') ('when', 'we') ('we', 'will') ('will', 'receive') ('receive', 'the') ('the', 'proofread') ('proofread', 'or') ('or', 'know') ('know', 'another') ('another', 'process') ('process', 'for') ('for', 'journal') ('journal', 'publication?') ('publication?', 'Thank') ('Thank', 'you') ('you', 'very') ('very', 'much') ('much', 'for') ('for', 'your') ('your', 'efforts') ('efforts', 'in') ('in', 'the') ('the', 'publication') ('publication', 'of') ('of', 'our') ('our', 'study.') ('study.', 'We') ('We', 'are') ('are', 'looking') ('looking', 'forward') ('forward', 'to') ('to', 'hearing') ('hearing', 'from') ('from', 'you') ('you', 'soon.') ('soon.', 'Best') ('Best', 'regards,') ('regards,', 'Jihoon') ('Jihoon', 'Moon,') ('Moon,', 'Ph.D.') "
     ]
    }
   ],
   "source": [
    "from nltk import ngrams\n",
    "grams = ngrams(new_text.split(), 2)\n",
    "for gram in grams: print(gram, end = ' ')"
   ]
  },
  {
   "cell_type": "code",
   "execution_count": 14,
   "metadata": {
    "scrolled": true
   },
   "outputs": [
    {
     "name": "stdout",
     "output_type": "stream",
     "text": [
      "('Dear', 'Editors,', 'Greeting,', 'This') ('Editors,', 'Greeting,', 'This', 'is') ('Greeting,', 'This', 'is', 'Jihoon') ('This', 'is', 'Jihoon', 'Moon,') ('is', 'Jihoon', 'Moon,', 'the') ('Jihoon', 'Moon,', 'the', 'co-author') ('Moon,', 'the', 'co-author', 'of') ('the', 'co-author', 'of', 'CLUS-D-21-00843R2.') ('co-author', 'of', 'CLUS-D-21-00843R2.', 'I') ('of', 'CLUS-D-21-00843R2.', 'I', 'am') ('CLUS-D-21-00843R2.', 'I', 'am', 'contacting') ('I', 'am', 'contacting', 'you') ('am', 'contacting', 'you', 'because') ('contacting', 'you', 'because', 'I') ('you', 'because', 'I', 'wonder') ('because', 'I', 'wonder', 'how') ('I', 'wonder', 'how', 'the') ('wonder', 'how', 'the', 'process') ('how', 'the', 'process', 'of') ('the', 'process', 'of', 'our') ('process', 'of', 'our', 'manuscript') ('of', 'our', 'manuscript', 'is') ('our', 'manuscript', 'is', 'going.') ('manuscript', 'is', 'going.', 'We') ('is', 'going.', 'We', 'think') ('going.', 'We', 'think', 'all') ('We', 'think', 'all', 'the') ('think', 'all', 'the', 'preparations') ('all', 'the', 'preparations', 'have') ('the', 'preparations', 'have', 'been') ('preparations', 'have', 'been', 'made') ('have', 'been', 'made', 'for') ('been', 'made', 'for', 'journal') ('made', 'for', 'journal', 'publication.') ('for', 'journal', 'publication.', 'However,') ('journal', 'publication.', 'However,', 'it') ('publication.', 'However,', 'it', 'has') ('However,', 'it', 'has', 'been') ('it', 'has', 'been', 'two') ('has', 'been', 'two', 'months') ('been', 'two', 'months', 'since') ('two', 'months', 'since', 'we') ('months', 'since', 'we', 'submitted') ('since', 'we', 'submitted', 'the') ('we', 'submitted', 'the', 'final') ('submitted', 'the', 'final', 'revision,') ('the', 'final', 'revision,', 'and') ('final', 'revision,', 'and', 'we') ('revision,', 'and', 'we', 'have') ('and', 'we', 'have', 'not') ('we', 'have', 'not', 'received') ('have', 'not', 'received', 'any') ('not', 'received', 'any', 'response.') ('received', 'any', 'response.', 'Could') ('any', 'response.', 'Could', 'we') ('response.', 'Could', 'we', 'know') ('Could', 'we', 'know', 'when') ('we', 'know', 'when', 'we') ('know', 'when', 'we', 'will') ('when', 'we', 'will', 'receive') ('we', 'will', 'receive', 'the') ('will', 'receive', 'the', 'proofread') ('receive', 'the', 'proofread', 'or') ('the', 'proofread', 'or', 'know') ('proofread', 'or', 'know', 'another') ('or', 'know', 'another', 'process') ('know', 'another', 'process', 'for') ('another', 'process', 'for', 'journal') ('process', 'for', 'journal', 'publication?') ('for', 'journal', 'publication?', 'Thank') ('journal', 'publication?', 'Thank', 'you') ('publication?', 'Thank', 'you', 'very') ('Thank', 'you', 'very', 'much') ('you', 'very', 'much', 'for') ('very', 'much', 'for', 'your') ('much', 'for', 'your', 'efforts') ('for', 'your', 'efforts', 'in') ('your', 'efforts', 'in', 'the') ('efforts', 'in', 'the', 'publication') ('in', 'the', 'publication', 'of') ('the', 'publication', 'of', 'our') ('publication', 'of', 'our', 'study.') ('of', 'our', 'study.', 'We') ('our', 'study.', 'We', 'are') ('study.', 'We', 'are', 'looking') ('We', 'are', 'looking', 'forward') ('are', 'looking', 'forward', 'to') ('looking', 'forward', 'to', 'hearing') ('forward', 'to', 'hearing', 'from') ('to', 'hearing', 'from', 'you') ('hearing', 'from', 'you', 'soon.') ('from', 'you', 'soon.', 'Best') ('you', 'soon.', 'Best', 'regards,') ('soon.', 'Best', 'regards,', 'Jihoon') ('Best', 'regards,', 'Jihoon', 'Moon,') ('regards,', 'Jihoon', 'Moon,', 'Ph.D.') "
     ]
    }
   ],
   "source": [
    "from nltk import ngrams\n",
    "grams = ngrams(new_text.split(), 4)\n",
    "for gram in grams: print(gram, end = ' ')"
   ]
  },
  {
   "cell_type": "code",
   "execution_count": null,
   "metadata": {},
   "outputs": [],
   "source": []
  }
 ],
 "metadata": {
  "kernelspec": {
   "display_name": "Python 3",
   "language": "python",
   "name": "python3"
  },
  "language_info": {
   "codemirror_mode": {
    "name": "ipython",
    "version": 3
   },
   "file_extension": ".py",
   "mimetype": "text/x-python",
   "name": "python",
   "nbconvert_exporter": "python",
   "pygments_lexer": "ipython3",
   "version": "3.7.6"
  }
 },
 "nbformat": 4,
 "nbformat_minor": 4
}
