{
 "cells": [
  {
   "cell_type": "code",
   "execution_count": 2,
   "metadata": {
    "scrolled": true
   },
   "outputs": [
    {
     "name": "stdout",
     "output_type": "stream",
     "text": [
      "Collecting konlpy\n",
      "  Downloading konlpy-0.6.0-py2.py3-none-any.whl (19.4 MB)\n",
      "Requirement already satisfied: lxml>=4.1.0 in c:\\programdata\\anaconda3\\lib\\site-packages (from konlpy) (4.5.0)\n",
      "Collecting JPype1>=0.7.0\n",
      "  Downloading JPype1-1.4.0-cp37-cp37m-win_amd64.whl (343 kB)\n",
      "Requirement already satisfied: numpy>=1.6 in c:\\programdata\\anaconda3\\lib\\site-packages (from konlpy) (1.18.1)\n",
      "Collecting typing-extensions; python_version < \"3.8\"\n",
      "  Downloading typing_extensions-4.3.0-py3-none-any.whl (25 kB)\n",
      "Installing collected packages: typing-extensions, JPype1, konlpy\n",
      "Successfully installed JPype1-1.4.0 konlpy-0.6.0 typing-extensions-4.3.0\n",
      "Note: you may need to restart the kernel to use updated packages.\n"
     ]
    }
   ],
   "source": [
    "pip install konlpy"
   ]
  },
  {
   "cell_type": "code",
   "execution_count": 4,
   "metadata": {},
   "outputs": [],
   "source": [
    "from konlpy.tag import Hannanum\n",
    "hannanum= Hannanum()"
   ]
  },
  {
   "cell_type": "code",
   "execution_count": 5,
   "metadata": {},
   "outputs": [],
   "source": [
    "import platform"
   ]
  },
  {
   "cell_type": "code",
   "execution_count": 6,
   "metadata": {},
   "outputs": [
    {
     "name": "stdout",
     "output_type": "stream",
     "text": [
      "('64bit', 'WindowsPE')\n"
     ]
    }
   ],
   "source": [
    "print(platform.architecture())"
   ]
  },
  {
   "cell_type": "code",
   "execution_count": 9,
   "metadata": {},
   "outputs": [
    {
     "name": "stdout",
     "output_type": "stream",
     "text": [
      "['유성', '이', '비', '처럼', '쏟', '아', '지', '는', '하늘', '그', '아래', '너', '와', '함께', '춤추', '고', '싶', '어', '색색', '의', '옷', '들', '과', '예쁘', 'ㄴ', '액세서리']\n"
     ]
    }
   ],
   "source": [
    "print(hannanum.morphs(\"유성이 비처럼 쏟아지는 하늘 그 아래 너와 함께 춤추고 싶어 색색의 옷들과 예쁜 액세서리\"))"
   ]
  },
  {
   "cell_type": "code",
   "execution_count": 10,
   "metadata": {},
   "outputs": [
    {
     "name": "stdout",
     "output_type": "stream",
     "text": [
      "['유성', '비', '하늘', '아래', '너', '색색', '옷', '액세서리']\n"
     ]
    }
   ],
   "source": [
    "print(hannanum.nouns(\"유성이 비처럼 쏟아지는 하늘 그 아래 너와 함께 춤추고 싶어 색색의 옷들과 예쁜 액세서리\"))"
   ]
  },
  {
   "cell_type": "code",
   "execution_count": 11,
   "metadata": {},
   "outputs": [
    {
     "name": "stdout",
     "output_type": "stream",
     "text": [
      "[('유성', 'N'), ('이', 'J'), ('비', 'N'), ('처럼', 'J'), ('쏟', 'P'), ('아', 'E'), ('지', 'P'), ('는', 'E'), ('하늘', 'N'), ('그', 'M'), ('아래', 'N'), ('너', 'N'), ('와', 'J'), ('함께', 'M'), ('춤추', 'P'), ('고', 'E'), ('싶', 'P'), ('어', 'E'), ('색색', 'N'), ('의', 'J'), ('옷', 'N'), ('들', 'X'), ('과', 'J'), ('예쁘', 'P'), ('ㄴ', 'E'), ('액세서리', 'N'), ('흐르', 'P'), ('는', 'E'), ('저', 'N'), ('음악', 'N'), ('이', 'J'), ('내', 'P'), ('어', 'E'), ('말', 'P'), ('ㅁ', 'E'), ('을', 'J'), ('설레', 'P'), ('게', 'E'), ('하', 'P'), ('지', 'E')]\n"
     ]
    }
   ],
   "source": [
    "print(hannanum.pos(\"유성이 비처럼 쏟아지는 하늘 그 아래 너와 함께 춤추고 싶어 색색의 옷들과 예쁜 액세서리 흐르는 저 음악이 내 맘을 설레게 하지\", ntags= 9))"
   ]
  },
  {
   "cell_type": "code",
   "execution_count": 12,
   "metadata": {},
   "outputs": [
    {
     "name": "stdout",
     "output_type": "stream",
     "text": [
      "[('유성', 'NC'), ('이', 'JC'), ('비', 'NC'), ('처럼', 'JC'), ('쏟', 'PV'), ('아', 'EC'), ('지', 'PX'), ('는', 'ET'), ('하늘', 'NC'), ('그', 'MM'), ('아래', 'NC'), ('너', 'NP'), ('와', 'JC'), ('함께', 'MA'), ('춤추', 'PV'), ('고', 'EC'), ('싶', 'PX'), ('어', 'EC'), ('색색', 'NC'), ('의', 'JC'), ('옷', 'NC'), ('들', 'XS'), ('과', 'JC'), ('예쁘', 'PA'), ('ㄴ', 'ET'), ('액세서리', 'NC'), ('흐르', 'PV'), ('는', 'ET'), ('저', 'NP'), ('음악', 'NC'), ('이', 'JC'), ('내', 'PV'), ('어', 'EC'), ('말', 'PX'), ('ㅁ', 'ET'), ('을', 'JC'), ('설레', 'PV'), ('게', 'EC'), ('하', 'PV'), ('지', 'EC')]\n"
     ]
    }
   ],
   "source": [
    "print(hannanum.pos(\"유성이 비처럼 쏟아지는 하늘 그 아래 너와 함께 춤추고 싶어 색색의 옷들과 예쁜 액세서리 흐르는 저 음악이 내 맘을 설레게 하지\", ntags= 22))"
   ]
  },
  {
   "cell_type": "code",
   "execution_count": 13,
   "metadata": {},
   "outputs": [],
   "source": [
    "from konlpy.tag import Kkma"
   ]
  },
  {
   "cell_type": "code",
   "execution_count": 14,
   "metadata": {},
   "outputs": [],
   "source": [
    "kkma= Kkma()"
   ]
  },
  {
   "cell_type": "code",
   "execution_count": 17,
   "metadata": {},
   "outputs": [
    {
     "name": "stdout",
     "output_type": "stream",
     "text": [
      "['유성', '이', '비', '처럼', '쏟아지', '는', '하늘', '그', '아래', '너', '와', '함께', '춤추', '고', '싶', '어', '색색', '의', '옷', '들', '과', '예쁘', 'ㄴ', '액세서리']\n"
     ]
    }
   ],
   "source": [
    "print(kkma.morphs(\"유성이 비처럼 쏟아지는 하늘 그 아래 너와 함께 춤추고 싶어 색색의 옷들과 예쁜 액세서리\"))"
   ]
  },
  {
   "cell_type": "code",
   "execution_count": 18,
   "metadata": {},
   "outputs": [
    {
     "name": "stdout",
     "output_type": "stream",
     "text": [
      "['유성', '비', '하늘', '아래', '너', '색색', '옷', '액세서리']\n"
     ]
    }
   ],
   "source": [
    "print(kkma.nouns(\"유성이 비처럼 쏟아지는 하늘 그 아래 너와 함께 춤추고 싶어 색색의 옷들과 예쁜 액세서리\"))"
   ]
  },
  {
   "cell_type": "code",
   "execution_count": 19,
   "metadata": {},
   "outputs": [
    {
     "name": "stdout",
     "output_type": "stream",
     "text": [
      "[('유성', 'NNG'), ('이', 'JKS'), ('비', 'NNG'), ('처럼', 'JKM'), ('쏟아지', 'VV'), ('는', 'ETD'), ('하늘', 'NNG'), ('그', 'MDT'), ('아래', 'NNG'), ('너', 'NP'), ('와', 'JKM'), ('함께', 'MAG'), ('춤추', 'VV'), ('고', 'ECE'), ('싶', 'VXA'), ('어', 'ECD'), ('색색', 'NNG'), ('의', 'JKG'), ('옷', 'NNG'), ('들', 'XSN'), ('과', 'JKO'), ('예쁘', 'VA'), ('ㄴ', 'ETD'), ('액세서리', 'NNG')]\n"
     ]
    }
   ],
   "source": [
    "print(kkma.pos(\"유성이 비처럼 쏟아지는 하늘 그 아래 너와 함께 춤추고 싶어 색색의 옷들과 예쁜 액세서리\"))"
   ]
  },
  {
   "cell_type": "code",
   "execution_count": 20,
   "metadata": {},
   "outputs": [],
   "source": [
    "from konlpy.tag import Okt"
   ]
  },
  {
   "cell_type": "code",
   "execution_count": 21,
   "metadata": {},
   "outputs": [],
   "source": [
    "okt = Okt()"
   ]
  },
  {
   "cell_type": "code",
   "execution_count": 22,
   "metadata": {},
   "outputs": [
    {
     "name": "stdout",
     "output_type": "stream",
     "text": [
      "['유성', '이', '비처럼', '쏟아지는', '하늘', '그', '아래', '너', '와', '함께', '춤추고', '싶어', '색색', '의', '옷', '들', '과', '예쁜', '액세서리']\n"
     ]
    }
   ],
   "source": [
    "print(okt.morphs(\"유성이 비처럼 쏟아지는 하늘 그 아래 너와 함께 춤추고 싶어 색색의 옷들과 예쁜 액세서리\"))"
   ]
  },
  {
   "cell_type": "code",
   "execution_count": 23,
   "metadata": {},
   "outputs": [
    {
     "name": "stdout",
     "output_type": "stream",
     "text": [
      "['유성', '비처럼', '하늘', '그', '아래', '너', '색색', '옷', '액세서리']\n"
     ]
    }
   ],
   "source": [
    "print(okt.nouns(\"유성이 비처럼 쏟아지는 하늘 그 아래 너와 함께 춤추고 싶어 색색의 옷들과 예쁜 액세서리\"))"
   ]
  },
  {
   "cell_type": "code",
   "execution_count": 24,
   "metadata": {},
   "outputs": [
    {
     "name": "stdout",
     "output_type": "stream",
     "text": [
      "[('유성', 'Noun'), ('이', 'Josa'), ('비처럼', 'Noun'), ('쏟아지는', 'Verb'), ('하늘', 'Noun'), ('그', 'Noun'), ('아래', 'Noun'), ('너', 'Noun'), ('와', 'Josa'), ('함께', 'Adverb'), ('춤추고', 'Verb'), ('싶어', 'Verb'), ('색색', 'Noun'), ('의', 'Josa'), ('옷', 'Noun'), ('들', 'Suffix'), ('과', 'Josa'), ('예쁜', 'Adjective'), ('액세서리', 'Noun'), ('흐르는', 'Verb'), ('저', 'Noun'), ('음악', 'Noun'), ('이', 'Josa'), ('내', 'Noun'), ('맘', 'Noun'), ('을', 'Josa'), ('설레게', 'Adjective'), ('하지', 'Verb')]\n"
     ]
    }
   ],
   "source": [
    "print(okt.pos(\"유성이 비처럼 쏟아지는 하늘 그 아래 너와 함께 춤추고 싶어 색색의 옷들과 예쁜 액세서리 흐르는 저 음악이 내 맘을 설레게 하지\"))"
   ]
  },
  {
   "cell_type": "code",
   "execution_count": 25,
   "metadata": {},
   "outputs": [
    {
     "name": "stdout",
     "output_type": "stream",
     "text": [
      "['유성', '비처럼', '비처럼 쏟아지는 하늘', '비처럼 쏟아지는 하늘 그', '비처럼 쏟아지는 하늘 그 아래', '비처럼 쏟아지는 하늘 그 아래 너', '색색', '색색의 옷들', '색색의 옷들과 예쁜 액세서리', '색색의 옷들과 예쁜 액세서리 흐르는 저', '하늘', '아래', '옷들', '액세서리', '음악']\n"
     ]
    }
   ],
   "source": [
    "print(okt.phrases(\"유성이 비처럼 쏟아지는 하늘 그 아래 너와 함께 춤추고 싶어 색색의 옷들과 예쁜 액세서리 흐르는 저 음악이 내 맘을 설레게 하지\"))"
   ]
  },
  {
   "cell_type": "code",
   "execution_count": 27,
   "metadata": {},
   "outputs": [
    {
     "name": "stdout",
     "output_type": "stream",
     "text": [
      "['경찰', '은', '26일', '법원', '에서', '체포영장', '을', '발부', '받아', '오후', '8시', '께', '강남구', '의', '한', '호텔', '에서', '영장', '을', '집행', '했다', '.', '그', '가', '소지', '하고', '있던', '필로폰', '30', 'ｇ', '도', '압수', '했다', '.']\n"
     ]
    }
   ],
   "source": [
    "print(okt.morphs(\"경찰은 26일 법원에서 체포영장을 발부받아 오후 8시께 강남구의 한 호텔에서 영장을 집행했다. 그가 소지하고 있던 필로폰 30ｇ도 압수했다.\"))"
   ]
  },
  {
   "cell_type": "code",
   "execution_count": 26,
   "metadata": {},
   "outputs": [
    {
     "name": "stdout",
     "output_type": "stream",
     "text": [
      "['경찰', '26일', '26일 법원', '체포영장', '발부', '오후', '오후 8시', '강남구', '강남구의 한 호텔', '영장', '집행', '소지', '있던 필로폰', '있던 필로폰 30', '도 압수', '법원', '8시', '호텔', '필로폰', '30', '압수']\n"
     ]
    }
   ],
   "source": [
    "print(okt.phrases(\"경찰은 26일 법원에서 체포영장을 발부받아 오후 8시께 강남구의 한 호텔에서 영장을 집행했다. 그가 소지하고 있던 필로폰 30ｇ도 압수했다.\"))"
   ]
  },
  {
   "cell_type": "code",
   "execution_count": 28,
   "metadata": {},
   "outputs": [
    {
     "name": "stdout",
     "output_type": "stream",
     "text": [
      "['경찰', '법원', '체포영장', '발부', '오후', '강남구', '호텔', '영장', '집행', '그', '소지', '필로폰', '도', '압수']\n"
     ]
    }
   ],
   "source": [
    "print(okt.nouns(\"경찰은 26일 법원에서 체포영장을 발부받아 오후 8시께 강남구의 한 호텔에서 영장을 집행했다. 그가 소지하고 있던 필로폰 30ｇ도 압수했다.\"))"
   ]
  },
  {
   "cell_type": "code",
   "execution_count": 29,
   "metadata": {},
   "outputs": [],
   "source": [
    "from nltk import pos_tag"
   ]
  },
  {
   "cell_type": "code",
   "execution_count": 30,
   "metadata": {},
   "outputs": [],
   "source": [
    "import nltk"
   ]
  },
  {
   "cell_type": "code",
   "execution_count": 32,
   "metadata": {},
   "outputs": [
    {
     "name": "stderr",
     "output_type": "stream",
     "text": [
      "[nltk_data] Downloading package averaged_perceptron_tagger to\n",
      "[nltk_data]     C:\\Users\\student\\AppData\\Roaming\\nltk_data...\n",
      "[nltk_data]   Unzipping taggers\\averaged_perceptron_tagger.zip.\n"
     ]
    },
    {
     "data": {
      "text/plain": [
       "True"
      ]
     },
     "execution_count": 32,
     "metadata": {},
     "output_type": "execute_result"
    }
   ],
   "source": [
    "nltk.download(\"averaged_perceptron_tagger\")"
   ]
  },
  {
   "cell_type": "code",
   "execution_count": 33,
   "metadata": {},
   "outputs": [
    {
     "name": "stdout",
     "output_type": "stream",
     "text": [
      "[('I', 'PRP'), ('feel', 'VBP'), ('the', 'DT'), ('disco', 'NN'), ('rhythm', 'NN'), ('in', 'IN'), ('my', 'PRP$'), ('body.', 'NN')]\n"
     ]
    }
   ],
   "source": [
    "tokens = \"I feel the disco rhythm in my body.\".split()\n",
    "tags_en= pos_tag(tokens)\n",
    "print(tags_en)"
   ]
  },
  {
   "cell_type": "code",
   "execution_count": null,
   "metadata": {},
   "outputs": [],
   "source": []
  }
 ],
 "metadata": {
  "kernelspec": {
   "display_name": "Python 3",
   "language": "python",
   "name": "python3"
  },
  "language_info": {
   "codemirror_mode": {
    "name": "ipython",
    "version": 3
   },
   "file_extension": ".py",
   "mimetype": "text/x-python",
   "name": "python",
   "nbconvert_exporter": "python",
   "pygments_lexer": "ipython3",
   "version": "3.7.6"
  }
 },
 "nbformat": 4,
 "nbformat_minor": 4
}
